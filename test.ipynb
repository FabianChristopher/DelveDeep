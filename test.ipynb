{
 "cells": [
  {
   "cell_type": "code",
   "execution_count": 1,
   "metadata": {},
   "outputs": [
    {
     "name": "stdout",
     "output_type": "stream",
     "text": [
      "Using paper_search from: d:\\Docs\\UNI\\Sem 4\\NLPIR\\MP\\Prototype\\Code\\api\\paper_search.py\n"
     ]
    }
   ],
   "source": [
    "import api.paper_search\n",
    "print(\"Using paper_search from:\", api.paper_search.__file__)"
   ]
  },
  {
   "cell_type": "code",
   "execution_count": 2,
   "metadata": {},
   "outputs": [
    {
     "name": "stdout",
     "output_type": "stream",
     "text": [
      "{'check_arguments': {'unspecified': [], 'unsupported': []}, 'citations': [{'citingPaper': {'authors': [{'authorId': '2265403745', 'name': 'Agnieszka Lasota'}, {'authorId': '6670195', 'name': 'M. Gorzelak'}, {'authorId': '2277968801', 'name': 'Karolina Turżańska'}, {'authorId': '1422620406', 'name': 'Wojciech Kłapeć'}, {'authorId': '8031871', 'name': 'M. Jarzębski'}, {'authorId': '2102710257', 'name': 'Tomasz Blicharski'}, {'authorId': '4777335', 'name': 'Jarosław Pawlicz'}, {'authorId': '117526884', 'name': 'M. Wieruszewski'}, {'authorId': '2265407111', 'name': 'Mirosław Jabłoński'}, {'authorId': '2265408259', 'name': 'Andrzej Kuczumow'}], 'citationCount': 0, 'paperId': '24fe60e02e81dbe7bd747af4a5a1480fab847686', 'referenceCount': 92, 'title': 'The Ways of Forming and the Erosion/Decay/Aging of Bioapatites in the Context of the Reversibility of Apatites'}, 'contexts': ['Due to the great variability in caries, special criteria were elaborated for detailed diagnosis and further intervention in clinical practice [14–20].'], 'intents': ['background']}, {'citingPaper': {'authors': [{'authorId': '2176609238', 'name': 'Seok-Woo Park'}, {'authorId': '7266430', 'name': 'Eun-Song Lee'}, {'authorId': '2157066607', 'name': 'Sang-Kyeom Kim'}, {'authorId': '2290603590', 'name': 'H. Jung'}, {'authorId': '2310774805', 'name': 'Baek-Il Kim'}], 'citationCount': 0, 'paperId': '8aa58098cbcf9ba88ae32d798b57d4c93c2c2d49', 'referenceCount': 38, 'title': 'Quantitative Assessment of Early Caries Lesion Activity Using Novel Dye-Enhanced Fluorescence Imaging.'}, 'contexts': [], 'intents': []}, {'citingPaper': {'authors': [{'authorId': '2237120865', 'name': 'Juliana de Kássia Braga Fernandes'}, {'authorId': '2309627982', 'name': 'Francenilde Silva de Sousa'}, {'authorId': '2237112041', 'name': 'C. Alves'}, {'authorId': '2237805313', 'name': 'C.C.C. Ribeiro'}, {'authorId': '2069075233', 'name': 'V. F. Simões'}, {'authorId': '2061644631', 'name': 'M. Saraiva'}, {'authorId': '2314308', 'name': 'É. Thomaz'}], 'citationCount': 1, 'paperId': 'd4aab28e2098f1d0902e6db39629ddc712a029fe', 'referenceCount': 48, 'title': 'Small for gestational age and early childhood caries: the BRISA cohort study'}, 'contexts': ['Nyvad is a validated classification system 19 , has been shown to have high reproducibility for lesion severity assessment when compared to the International System for the Detection and Evaluation of Caries (ICDAS) 20 , and has been used in international studies 21, 22 .'], 'intents': []}], 'function': 'lookup_citations', 'inputs': {'fields': 'contexts,intents,citationCount,referenceCount,title,authors', 'id': 'CorpusId:10491450', 'limit': '3', 'offset': '0'}, 'time': 1.0842838287353516}\n"
     ]
    }
   ],
   "source": [
    "import requests\n",
    "\n",
    "def test_get_citations(paper_id):\n",
    "    # Construct the URL with paper_id; limit to 3 citations.\n",
    "    url = f\"http://recommendpapers.xyz/api/lookup_citations?id={paper_id}&offset=0&limit=3&fields=contexts,intents,citationCount,referenceCount,title,authors\"\n",
    "    response = requests.get(url)\n",
    "    try:\n",
    "        return response.json()\n",
    "    except Exception as e:\n",
    "        return f\"Error parsing JSON: {e}\"\n",
    "\n",
    "# Replace with an actual paper id from your search results.\n",
    "sample_paper_id = \"CorpusId:10491450\"\n",
    "citations = test_get_citations(sample_paper_id)\n",
    "print(citations)\n"
   ]
  },
  {
   "cell_type": "code",
   "execution_count": null,
   "metadata": {},
   "outputs": [],
   "source": []
  },
  {
   "cell_type": "code",
   "execution_count": null,
   "metadata": {},
   "outputs": [],
   "source": []
  }
 ],
 "metadata": {
  "kernelspec": {
   "display_name": "sam_env",
   "language": "python",
   "name": "python3"
  },
  "language_info": {
   "codemirror_mode": {
    "name": "ipython",
    "version": 3
   },
   "file_extension": ".py",
   "mimetype": "text/x-python",
   "name": "python",
   "nbconvert_exporter": "python",
   "pygments_lexer": "ipython3",
   "version": "3.8.20"
  }
 },
 "nbformat": 4,
 "nbformat_minor": 2
}
